{
 "cells": [
  {
   "cell_type": "code",
   "execution_count": 2,
   "metadata": {},
   "outputs": [],
   "source": [
    "import numpy as np\n",
    "import pandas as pd \n",
    "import matplotlib.pyplot as plt\n",
    "%matplotlib inline\n"
   ]
  },
  {
   "cell_type": "code",
   "execution_count": 3,
   "metadata": {
    "collapsed": true
   },
   "outputs": [],
   "source": [
    "num_of_data_point_i_want = 3000\n",
    "data = pd.read_csv('train.csv',nrows=num_of_data_point_i_want, header=None)\n",
    "#in total : 1710670 data point\n",
    "res = data[8]\n",
    "del res[0]"
   ]
  },
  {
   "cell_type": "code",
   "execution_count": 6,
   "metadata": {},
   "outputs": [],
   "source": [
    "##get the float version of each trajectory\n",
    "#initialize\n",
    "trajectory = []\n",
    "temp = []\n",
    "final_res = []\n",
    "test_res = []\n",
    "\n",
    "for i in range(len(res)):\n",
    "    #get the str version of each trajectory\n",
    "    trajectory.append(res[i+1].split(',')) \n",
    "    \n",
    "    \n",
    "for i in range(len(trajectory)):\n",
    "        # if the length of a trajectory is shorter than 1, means the trajectory doesn't exist\n",
    "        if len(trajectory[i]) > 1 :\n",
    "            for j in range(len(trajectory[i])):\n",
    "                #remove unnecessary element \n",
    "                temp1 = trajectory[i][j].replace(']','')\n",
    "                temp2 = temp1.replace('[','')\n",
    "                trajectory[i][j] = float(temp2)\n",
    "\n",
    "#delete all empty element\n",
    "unwanted = []\n",
    "for i in range(len(trajectory)):\n",
    "    if trajectory[i] == ['[]']:\n",
    "        unwanted.append(i)\n",
    "trajectory = [j for i,j in enumerate(trajectory) if i not in unwanted]\n",
    "\n",
    "longitude = [1]*(len(trajectory))\n",
    "latitude = [1]*(len(trajectory))\n",
    "\n",
    "#longitude and latitude for graph\n",
    "for i in range(len(trajectory)):\n",
    "    longitude[i] = trajectory[i][::2]\n",
    "    latitude[i] = trajectory[i][1::2]"
   ]
  },
  {
   "cell_type": "code",
   "execution_count": 7,
   "metadata": {
    "collapsed": true
   },
   "outputs": [],
   "source": [
    "################\n",
    "##有一位老人在porto画了一个圈\n",
    "#change the variable bound_left,bound_right,bound_up,bound_down to limit the trajectories\n",
    "#in latitude\n",
    "bound_left = -8.692\n",
    "bound_right = -8.535\n",
    "#in longitude\n",
    "bound_up = 41.2457\n",
    "bound_down = 41.065\n",
    "\n",
    "unwanted = []\n",
    "#in fianl_res, each row means one trajectory\n",
    "for i in range(len(trajectory)):\n",
    "    for j in range(len(longitude[i])):\n",
    "        ##if its not in the range\n",
    "        \n",
    "        if (longitude[i][j]>bound_right) or (longitude[i][j]<bound_left):\n",
    "            unwanted.append(i)\n",
    "            break\n",
    "        elif (latitude[i][j]>bound_up) or (latitude[i][j]<bound_down):\n",
    "            unwanted.append(i)\n",
    "            break\n",
    "\n",
    "#delete unwanted element from the list to get bounded longnitude and latitude\n",
    "longitude_bound = [j for i,j in enumerate(longitude) if i not in unwanted]\n",
    "latitude_bound = [j for i,j in enumerate(latitude) if i not in unwanted]\n",
    "\n",
    "## AND refresh the final_res list to be:\n",
    "final_res_new = [j for i,j in enumerate(trajectory) if i not in unwanted]\n",
    "# len(longitude_bound)\n",
    "# len(latitude_bound)\n"
   ]
  },
  {
   "cell_type": "code",
   "execution_count": 9,
   "metadata": {},
   "outputs": [],
   "source": [
    "## modify num_grid_row and num_grid_col to change the grid numbers\n",
    "num_grid_row = 20\n",
    "num_grid_col = 20\n",
    "\n",
    "#get the length of each grid\n",
    "len_grid_row = (bound_right - bound_left)/num_grid_row\n",
    "len_grid_col = (bound_up - bound_down)/num_grid_col\n",
    "\n",
    "#change every geographic point into a specific grid number\n",
    "row_index = []\n",
    "col_index = []\n",
    "row_index_temp1 = []\n",
    "col_index_temp1 = []\n",
    "for i in range(len(final_res_new)):\n",
    "    \n",
    "    for j in range(len(latitude_bound[i])):\n",
    "        row_index_temp = int((longitude_bound[i][j] - bound_left)//len_grid_row)\n",
    "        col_index_temp = int((latitude_bound[i][j] - bound_down)//len_grid_col)\n",
    "        row_index_temp1.append(row_index_temp)\n",
    "        col_index_temp1.append(col_index_temp)\n",
    "    row_index.append(row_index_temp1)\n",
    "    col_index.append(col_index_temp1)\n",
    "    row_index_temp1 = []\n",
    "    col_index_temp1 = []"
   ]
  },
  {
   "cell_type": "code",
   "execution_count": 10,
   "metadata": {
    "collapsed": true
   },
   "outputs": [],
   "source": [
    "###find the length of the trajectories\n",
    "len_size = 80\n",
    "index_len = np.zeros(len_size)\n",
    "temp = 0 \n",
    "for i in range(len(row_index)):\n",
    "    if  (len(row_index[i])<len_size):\n",
    "        index_len[len(row_index[i])]+=1\n",
    "        temp += 1\n",
    "for i in range(80):\n",
    "    index_len[i] = index_len[i]/temp\n",
    "\n",
    "#index_len"
   ]
  },
  {
   "cell_type": "markdown",
   "metadata": {},
   "source": [
    "# Predictors"
   ]
  },
  {
   "cell_type": "markdown",
   "metadata": {},
   "source": [
    "### 1.P(E|S)"
   ]
  },
  {
   "cell_type": "code",
   "execution_count": 12,
   "metadata": {
    "collapsed": true
   },
   "outputs": [],
   "source": [
    "###get the start and end point for each trajectory\n",
    "\n",
    "#initialize\n",
    "start_row = []\n",
    "start_col = []\n",
    "end_row = []\n",
    "end_col = []\n",
    "#find start and end point\n",
    "for i in range(len(row_index)):\n",
    "    start_row.append(row_index[i][0])\n",
    "    start_col.append(col_index[i][0])\n",
    "    end_row.append(row_index[i][-1])\n",
    "    end_col.append(col_index[i][-1])\n",
    "    \n",
    "#输入一个start_point, 输出一个 dictionary，这个dictionary 的每一个key是possible end_point 然后对应的概率\n",
    "\n",
    "def PES(start_point_row,start_point_col):\n",
    "    dic = {}\n",
    "    for i in range(len(start_row)):\n",
    "        #如果对应的end point 已经存在，那么dict[this spcific start_point] += 1;\n",
    "        #如果对应的end point 还没有记录过，那么dict[this specific start_point] = 1;\n",
    "            \n",
    "        if (start_row[i] == start_point_row) and (start_col[i] == start_point_col):\n",
    "            end = (end_row[i],end_row[i])\n",
    "            if end in dic:\n",
    "                dic[end] += 1\n",
    "            else:\n",
    "                dic[end] = 1\n",
    "##transfer count into probability\n",
    "    total = 0\n",
    "    for k in dic:\n",
    "        total += dic[k]\n",
    "    for k in dic:\n",
    "        dic[k] = dic[k]/total    \n",
    "    return dic\n",
    "\n",
    "#####\n",
    "##THIS code may be extremely slow and need modify"
   ]
  },
  {
   "cell_type": "markdown",
   "metadata": {},
   "source": [
    "### 2.P(E|C)"
   ]
  },
  {
   "cell_type": "code",
   "execution_count": 13,
   "metadata": {
    "collapsed": true
   },
   "outputs": [],
   "source": [
    "def PEC(start_point_row,start_point_col):\n",
    "    dic = {}\n",
    "    #for every trajectory\n",
    "    for i in range(len(row_index)):\n",
    "        #for every point in the trajectory\n",
    "        for j in range(len(row_index[i])-1):\n",
    "            if(row_index[i][j] == start_point_row) and (col_index[i][j] == start_point_col):\n",
    "                end = (row_index[i][len(row_index[i])-1], col_index[i][len(col_index[i])-1])\n",
    "                if end in dic:\n",
    "                    dic[end] += 1\n",
    "                else: \n",
    "                    dic[end] = 1\n",
    "    total = 0\n",
    "    for k in dic:\n",
    "        total+=dic[k]\n",
    "    for k in dic:\n",
    "        dic[k] = dic[k]/total\n",
    "    return dic"
   ]
  },
  {
   "cell_type": "markdown",
   "metadata": {},
   "source": [
    "### 3.First_order Markov Model"
   ]
  },
  {
   "cell_type": "code",
   "execution_count": 16,
   "metadata": {
    "collapsed": true
   },
   "outputs": [],
   "source": [
    "from copy import copy, deepcopy\n",
    "row_with_finish = deepcopy(row_index)\n",
    "col_with_finish = deepcopy(col_index)\n",
    "for i in range(len(longitude_bound)):\n",
    "    row_with_finish[i].append('TRUE')\n",
    "    col_with_finish[i].append('TRUE')\n",
    "\n",
    "def adjacent_point(start_point_row,start_point_col,direction):\n",
    "    if (direction == 0):\n",
    "        next_state = (start_point_row,start_point_col)\n",
    "    elif (direction == 1):\n",
    "        next_state = (start_point_row+1,start_point_col)\n",
    "    elif (direction == 2):\n",
    "        next_state = (start_point_row-1,start_point_col)\n",
    "    elif (direction == 3):\n",
    "        next_state = (start_point_row,start_point_col-1)\n",
    "    elif (direction == 4):\n",
    "        next_state = (start_point_row,start_point_col+1)\n",
    "    elif (direction == 5):\n",
    "        next_state = (start_point_row+1,start_point_col-1)\n",
    "    elif (direction == 6):\n",
    "        next_state = (start_point_row+1,start_point_col+1)\n",
    "    elif (direction == 7):\n",
    "        next_state = (start_point_row-1,start_point_col-1)\n",
    "    elif (direction == 8):\n",
    "        next_state = (start_point_row-1,start_point_col+1)\n",
    "    else:\n",
    "        next_state = ('TRUE','TRUE')\n",
    "    return next_state"
   ]
  },
  {
   "cell_type": "code",
   "execution_count": 22,
   "metadata": {},
   "outputs": [],
   "source": [
    "epsilon = 0.1\n",
    "def first_markov(start_point_row,start_point_col):\n",
    "    dic = {}\n",
    "    # for every trajectory    \n",
    "    for i in range(len(row_with_finish)):\n",
    "        #for every point during the trip\n",
    "        for j in range(len(row_with_finish[i])-1):\n",
    "            if (row_with_finish[i][j]==start_point_row) and (col_with_finish[i][j]==start_point_col):\n",
    "                next_state = (row_with_finish[i][j+1],col_with_finish[i][j+1])\n",
    "                if next_state in dic:\n",
    "                    dic[next_state] += 1\n",
    "                else:\n",
    "                    dic[next_state] = 1\n",
    "    for i in range(9):\n",
    "        next_state = adjacent_point(start_point_row,start_point_col,i)\n",
    "        #print(next_state)\n",
    "        a = next_state[0]\n",
    "        #print('a = ',a)\n",
    "        b = next_state[1]\n",
    "        #print('b = ',b)\n",
    "\n",
    "        #print('num_grid_col = ',num_grid_col )\n",
    "        #print(a<=num_grid_col)\n",
    "        \n",
    "        \n",
    "        if(a>=0) and (a<num_grid_col) and (b>=0) and (b<num_grid_row):\n",
    "            if next_state in dic:\n",
    "                \n",
    "                dic[next_state] += epsilon\n",
    "            else:\n",
    "                dic[next_state] = epsilon\n",
    "    \n",
    "    ##transfer count into probability\n",
    "    total = 0\n",
    "    for k in dic:\n",
    "        total += dic[k]\n",
    "    for k in dic:\n",
    "        dic[k] = dic[k]/total\n",
    "    \n",
    "    return dic\n",
    "\n"
   ]
  },
  {
   "cell_type": "markdown",
   "metadata": {},
   "source": [
    "## Visualization of the next step "
   ]
  },
  {
   "cell_type": "code",
   "execution_count": 91,
   "metadata": {
    "collapsed": true
   },
   "outputs": [],
   "source": [
    "def adjacent_point(start_point_row,start_point_col,direction):\n",
    "    if (direction == 0):\n",
    "        next_state = (start_point_row,start_point_col)\n",
    "    elif (direction == 1):\n",
    "        next_state = (start_point_row-1,start_point_col-1)\n",
    "    elif (direction == 2):\n",
    "        next_state = (start_point_row,start_point_col-1)\n",
    "    elif (direction == 3):\n",
    "        next_state = (start_point_row+1,start_point_col-1)\n",
    "    elif (direction == 4):\n",
    "        next_state = (start_point_row-1,start_point_col)\n",
    "    elif (direction == 5):\n",
    "        next_state = (start_point_row+1,start_point_col)\n",
    "    elif (direction == 6):\n",
    "        next_state = (start_point_row-1,start_point_col+1)\n",
    "    elif (direction == 7):\n",
    "        next_state = (start_point_row,start_point_col+1)\n",
    "    elif (direction == 8):\n",
    "        next_state = (start_point_row+1,start_point_col+1)\n",
    "    return next_state"
   ]
  },
  {
   "cell_type": "code",
   "execution_count": 100,
   "metadata": {
    "scrolled": false
   },
   "outputs": [
    {
     "data": {
      "image/png": "[encoded data removed]",
      "text/plain": [
       "<matplotlib.figure.Figure at 0x1f390edd8d0>"
      ]
     },
     "metadata": {},
     "output_type": "display_data"
    }
   ],
   "source": [
    "current_state = (9,9)\n",
    "a = current_state[0]\n",
    "b = current_state[1]\n",
    "next_state = first_markov(a,b)\n",
    "\n",
    "line_width = np.zeros(9)\n",
    "# 0 : mid\n",
    "# 1 : top-left\n",
    "# 2 : top\n",
    "# 3 : top-right\n",
    "# 4 : left\n",
    "# 5 : right\n",
    "# 6 : bot-left\n",
    "# 7 : bot\n",
    "# 8 : bot-right\n",
    "\n",
    "if(current_state in next_state):\n",
    "    line_width[0]+=next_state[current_state]\n",
    "if((a-1,b-1) in next_state):\n",
    "    line_width[1]+= next_state[(a-1,b-1)]\n",
    "if((a,b-1) in next_state):\n",
    "    line_width[2]+= next_state[(a,b-1)]\n",
    "if((a+1,b-1) in next_state):\n",
    "    line_width[3]+= next_state[(a+1,b-1)]\n",
    "if((a-1,b) in next_state):\n",
    "    line_width[4]+= next_state[(a-1,b)]\n",
    "if((a+1,b) in next_state):\n",
    "    line_width[5]+= next_state[(a+1,b)]\n",
    "if((a-1,b+1) in next_state):\n",
    "    line_width[6]+= next_state[(a-1,b+1)]\n",
    "if((a,b+1) in next_state):\n",
    "    line_width[7]+= next_state[(a,b+1)]\n",
    "if((a+1,b+1) in next_state):\n",
    "    line_width[8]+= next_state[(a+1,b+1)]\n",
    "    \n",
    "\n",
    "for i in range(9):\n",
    "    temp = adjacent_point(a,b,i)\n",
    "    x_next = temp[0]\n",
    "    y_next = temp[1]\n",
    "    x = [a,x_next]\n",
    "    y = [b,y_next]\n",
    "    if(x_next != x and y_next != y):\n",
    "        plt.plot(x,y,c='b',linewidth = line_width[i]*100)\n",
    "plt.scatter(a,b,s = line_width[0]*100)\n",
    "\n",
    "plt.show()"
   ]
  },
  {
   "cell_type": "markdown",
   "metadata": {},
   "source": [
    "# Evaluation"
   ]
  },
  {
   "cell_type": "code",
   "execution_count": 35,
   "metadata": {
    "collapsed": true
   },
   "outputs": [],
   "source": []
  }
 ],
 "metadata": {
  "kernelspec": {
   "display_name": "Python 3",
   "language": "python",
   "name": "python3"
  },
  "language_info": {
   "codemirror_mode": {
    "name": "ipython",
    "version": 3
   },
   "file_extension": ".py",
   "mimetype": "text/x-python",
   "name": "python",
   "nbconvert_exporter": "python",
   "pygments_lexer": "ipython3",
   "version": "3.6.1"
  }
 },
 "nbformat": 4,
 "nbformat_minor": 2
}
